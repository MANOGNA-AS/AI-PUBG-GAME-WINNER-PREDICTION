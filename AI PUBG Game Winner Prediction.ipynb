Remove this 
PROJECT ID - 'PRCP-1012 GAME WINNER PREDICTION'

PROBLEM STATEMENT
TASK 1 -Prepare a complete data analysis report on the given data.

TASK 2 - Create predictive model which is at an attempt to predict the win probabilityof the pubg game.   
